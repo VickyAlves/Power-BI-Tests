{
  "nbformat": 4,
  "nbformat_minor": 0,
  "metadata": {
    "colab": {
      "provenance": [],
      "authorship_tag": "ABX9TyOvaRzeukw/SZDx+j+RhwZG",
      "include_colab_link": true
    },
    "kernelspec": {
      "name": "python3",
      "display_name": "Python 3"
    },
    "language_info": {
      "name": "python"
    }
  },
  "cells": [
    {
      "cell_type": "markdown",
      "metadata": {
        "id": "view-in-github",
        "colab_type": "text"
      },
      "source": [
        "<a href=\"https://colab.research.google.com/github/VickyAlves/Power-BI-Tests/blob/main/Desafio_DIO_Binariza%C3%A7%C3%A3o_de_imagem.ipynb\" target=\"_parent\"><img src=\"https://colab.research.google.com/assets/colab-badge.svg\" alt=\"Open In Colab\"/></a>"
      ]
    },
    {
      "cell_type": "code",
      "source": [
        "import struct\n",
        "from PIL import Image  # só para conversão final\n",
        "\n",
        "def rgb_to_gray(r, g, b):\n",
        "    \"\"\"Conversão ponderada RGB → Gray\"\"\"\n",
        "    return int(0.299*r + 0.587*g + 0.114*b)\n",
        "\n",
        "def carregar_bmp(caminho):\n",
        "    \"\"\"Lê uma imagem BMP e retorna cabeçalho e matriz de pixels\"\"\"\n",
        "    with open(caminho, 'rb') as f:\n",
        "        cabecalho = f.read(54)  # 54 bytes de header\n",
        "        dados = f.read()\n",
        "\n",
        "    largura = struct.unpack('<I', cabecalho[18:22])[0]\n",
        "    altura = struct.unpack('<I', cabecalho[22:26])[0]\n",
        "\n",
        "    pixels = []\n",
        "    linha_bytes = (largura * 3 + 3) & ~3\n",
        "    for y in range(altura):\n",
        "        linha = []\n",
        "        for x in range(largura):\n",
        "            i = y*linha_bytes + x*3\n",
        "            b, g, r = dados[i], dados[i+1], dados[i+2]\n",
        "            linha.append((r, g, b))\n",
        "        pixels.append(linha)\n",
        "\n",
        "    return cabecalho, pixels, largura, altura\n",
        "\n",
        "def salvar_bmp(caminho, cabecalho, pixels, largura, altura):\n",
        "    \"\"\"Salva imagem BMP a partir da matriz de pixels\"\"\"\n",
        "    with open(caminho, 'wb') as f:\n",
        "        f.write(cabecalho)\n",
        "        linha_bytes = (largura * 3 + 3) & ~3\n",
        "        for y in range(altura):\n",
        "            linha = []\n",
        "            for x in range(largura):\n",
        "                r, g, b = pixels[y][x]\n",
        "                linha.extend([b, g, r])  # BMP usa BGR\n",
        "            while len(linha) < linha_bytes:  # padding\n",
        "                linha.append(0)\n",
        "            f.write(bytearray(linha))\n",
        "\n",
        "def converter_para_cinza(pixels, largura, altura):\n",
        "    \"\"\"Transforma imagem colorida em grayscale\"\"\"\n",
        "    novo = []\n",
        "    for y in range(altura):\n",
        "        linha = []\n",
        "        for x in range(largura):\n",
        "            r, g, b = pixels[y][x]\n",
        "            gray = rgb_to_gray(r, g, b)\n",
        "            linha.append((gray, gray, gray))\n",
        "        novo.append(linha)\n",
        "    return novo\n",
        "\n",
        "def binarizar(pixels, largura, altura, limiar=128):\n",
        "    \"\"\"Transforma grayscale em preto e branco\"\"\"\n",
        "    novo = []\n",
        "    for y in range(altura):\n",
        "        linha = []\n",
        "        for x in range(largura):\n",
        "            r, g, b = pixels[y][x]\n",
        "            val = 255 if r > limiar else 0\n",
        "            linha.append((val, val, val))\n",
        "        novo.append(linha)\n",
        "    return novo\n",
        "\n",
        "\n",
        "# ---- USO ----\n",
        "# 1) Converta seu PNG original para BMP (pode usar o Pillow só para isso):\n",
        "entrada_png = \"/content/Lenna_(test_image).png\"\n",
        "entrada_bmp = \"/content/imagem_temp.bmp\"\n",
        "\n",
        "img = Image.open(entrada_png).convert(\"RGB\")\n",
        "img.save(entrada_bmp, \"BMP\")\n",
        "\n",
        "# 2) Processamento manual\n",
        "cabecalho, pixels, largura, altura = carregar_bmp(entrada_bmp)\n",
        "\n",
        "# Grayscale\n",
        "pixels_gray = converter_para_cinza(pixels, largura, altura)\n",
        "salvar_bmp(\"/content/imagem_gray.bmp\", cabecalho, pixels_gray, largura, altura)\n",
        "\n",
        "# Binarização\n",
        "pixels_bin = binarizar(pixels_gray, largura, altura)\n",
        "salvar_bmp(\"/content/imagem_binaria.bmp\", cabecalho, pixels_bin, largura, altura)\n",
        "\n",
        "# 3) Converter BMPs de volta para PNG\n",
        "Image.open(\"/content/imagem_gray.bmp\").save(\"/content/imagem_gray.png\", \"PNG\")\n",
        "Image.open(\"/content/imagem_binaria.bmp\").save(\"/content/imagem_binaria.png\", \"PNG\")\n",
        "\n",
        "print(\"✅ Processamento concluído! Imagens salvas em PNG.\")\n"
      ],
      "metadata": {
        "colab": {
          "base_uri": "https://localhost:8080/"
        },
        "id": "MOT_7NKiV3Mk",
        "outputId": "4e0afcb4-ddb2-4d81-ae18-f5877c73a297"
      },
      "execution_count": 2,
      "outputs": [
        {
          "output_type": "stream",
          "name": "stdout",
          "text": [
            "✅ Processamento concluído! Imagens salvas em PNG.\n"
          ]
        }
      ]
    }
  ]
}